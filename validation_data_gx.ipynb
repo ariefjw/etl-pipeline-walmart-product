{
 "cells": [
  {
   "cell_type": "markdown",
   "metadata": {},
   "source": [
    "'''<br>\n",
    "=================================================<br>\n",
    "Nama  : Arief Joko Wicaksono<br>\n",
    "\n",
    "<p>Program ini dibuat untuk melakukan validasi terhadap data yang telah di cleaning sebelumnya. Data yang divalidasi merupakan data product walmart pada januari-februari 2021.</p><br>\n",
    "=================================================<br>\n",
    "'''"
   ]
  },
  {
   "cell_type": "markdown",
   "metadata": {},
   "source": [
    "<h1>Validations Data</h1>"
   ]
  },
  {
   "cell_type": "markdown",
   "metadata": {},
   "source": [
    "<h3>1. Instantiate Data Context and Create connection</h3>"
   ]
  },
  {
   "cell_type": "markdown",
   "metadata": {},
   "source": [
    "<h4>import module</h4>"
   ]
  },
  {
   "cell_type": "code",
   "execution_count": 1,
   "metadata": {},
   "outputs": [],
   "source": [
    "from great_expectations.data_context import FileDataContext"
   ]
  },
  {
   "cell_type": "markdown",
   "metadata": {},
   "source": [
    "<h4>Craete data context</h4>"
   ]
  },
  {
   "cell_type": "code",
   "execution_count": 2,
   "metadata": {},
   "outputs": [],
   "source": [
    "#data context akan disimpan di directory yang sama sehingga project_root_dir diset './'\n",
    "context = FileDataContext.create(project_root_dir='./')"
   ]
  },
  {
   "cell_type": "markdown",
   "metadata": {},
   "source": [
    "<h4>Create connection with datasouce</h4>"
   ]
  },
  {
   "cell_type": "markdown",
   "metadata": {},
   "source": [
    "**datasource** : merupakan standar API untuk yang dapat diakses dan berinteraksi dengan data dari sumber yang lebih luas. "
   ]
  },
  {
   "cell_type": "markdown",
   "metadata": {},
   "source": [
    "**data asset** : kumpulan sumber data yang penamaannya sesuai dengan sistem data"
   ]
  },
  {
   "cell_type": "code",
   "execution_count": 3,
   "metadata": {},
   "outputs": [],
   "source": [
    "#Membuat nama datasource (harus unique)\n",
    "datasource_name = 'csv-data-walmart-product-jan-feb-2021'\n",
    "datasource = context.sources.add_pandas(datasource_name)\n",
    "\n",
    "#membuat nama untuk data asset\n",
    "asset_name = 'product-january-february-2021'\n",
    "path_to_data = 'D:\\CODA_001\\git\\p2-coda001-rmt-m3-ariefjw\\P2M3_arief_joko_data_clean.csv'\n",
    "asset = datasource.add_csv_asset(asset_name, filepath_or_buffer=path_to_data)\n",
    "\n",
    "#build batch request\n",
    "batch_request = asset.build_batch_request()"
   ]
  },
  {
   "cell_type": "markdown",
   "metadata": {},
   "source": [
    "<h3>2. Create Expectations</h3>"
   ]
  },
  {
   "cell_type": "markdown",
   "metadata": {},
   "source": [
    "<h4>Creat an expectation suite</h4>"
   ]
  },
  {
   "cell_type": "markdown",
   "metadata": {},
   "source": [
    "**Expectation Suite**: kumpulan pernyataan yang dapat diverifikasi tentang data. Expectation Suite menggabungkan beberapa Expectation untuk menggambarkan kumpulan data yang sama. <br><br>\n",
    "Expectation Suite dapat membantu pengguna untuk:<br>\n",
    "- Mengevaluasi kumpulan data sebagai satu kelompok, bukan satu per satu <br>\n",
    "- Meningkatkan kualitas data <br>\n",
    "- Memahami data dengan lebih baik"
   ]
  },
  {
   "cell_type": "code",
   "execution_count": 4,
   "metadata": {},
   "outputs": [
    {
     "data": {
      "text/plain": [
       "{\n",
       "  \"expectation_suite_name\": \"expectation-walmart-product\",\n",
       "  \"ge_cloud_id\": null,\n",
       "  \"expectations\": [],\n",
       "  \"data_asset_type\": null,\n",
       "  \"meta\": {\n",
       "    \"great_expectations_version\": \"0.18.19\"\n",
       "  }\n",
       "}"
      ]
     },
     "execution_count": 4,
     "metadata": {},
     "output_type": "execute_result"
    }
   ],
   "source": [
    "expectation_suite_name = 'expectation-walmart-product'\n",
    "context.add_or_update_expectation_suite(expectation_suite_name)"
   ]
  },
  {
   "cell_type": "markdown",
   "metadata": {},
   "source": [
    "<h4>Create a validator using above expectation suite</h4>"
   ]
  },
  {
   "cell_type": "code",
   "execution_count": 5,
   "metadata": {},
   "outputs": [
    {
     "data": {
      "application/vnd.jupyter.widget-view+json": {
       "model_id": "043847b74db045e1a75b9a525781e5e7",
       "version_major": 2,
       "version_minor": 0
      },
      "text/plain": [
       "Calculating Metrics:   0%|          | 0/1 [00:00<?, ?it/s]"
      ]
     },
     "metadata": {},
     "output_type": "display_data"
    },
    {
     "data": {
      "text/html": [
       "<div>\n",
       "<style scoped>\n",
       "    .dataframe tbody tr th:only-of-type {\n",
       "        vertical-align: middle;\n",
       "    }\n",
       "\n",
       "    .dataframe tbody tr th {\n",
       "        vertical-align: top;\n",
       "    }\n",
       "\n",
       "    .dataframe thead th {\n",
       "        text-align: right;\n",
       "    }\n",
       "</style>\n",
       "<table border=\"1\" class=\"dataframe\">\n",
       "  <thead>\n",
       "    <tr style=\"text-align: right;\">\n",
       "      <th></th>\n",
       "      <th>uniq_id</th>\n",
       "      <th>crawl_timestamp</th>\n",
       "      <th>product_id</th>\n",
       "      <th>product_company_type_source</th>\n",
       "      <th>product_category_group_code</th>\n",
       "      <th>product_category_code</th>\n",
       "      <th>product_market_code</th>\n",
       "      <th>product_sector_code</th>\n",
       "      <th>Product Brand Code</th>\n",
       "      <th>retailer</th>\n",
       "      <th>...</th>\n",
       "      <th>product_url</th>\n",
       "      <th>market</th>\n",
       "      <th>product_description</th>\n",
       "      <th>product_currency</th>\n",
       "      <th>product_available_inventory</th>\n",
       "      <th>product_image_url</th>\n",
       "      <th>product_tags</th>\n",
       "      <th>product_reviews_count</th>\n",
       "      <th>joining_key</th>\n",
       "      <th>expected_brand_count</th>\n",
       "    </tr>\n",
       "  </thead>\n",
       "  <tbody>\n",
       "    <tr>\n",
       "      <th>0</th>\n",
       "      <td>fc3abbe975e3df4784884da65bae9cc3</td>\n",
       "      <td>2021-02-02 23:41:45</td>\n",
       "      <td>eec8538d7c15e99e2ab4185435e5ecf8</td>\n",
       "      <td>Competitor</td>\n",
       "      <td>CH1944</td>\n",
       "      <td>CH2341</td>\n",
       "      <td>CH1095</td>\n",
       "      <td>CH1054</td>\n",
       "      <td>BZ1000</td>\n",
       "      <td>walmart.com</td>\n",
       "      <td>...</td>\n",
       "      <td>https://www.walmart.com/ip/Star-Brite-Mildew-S...</td>\n",
       "      <td>US</td>\n",
       "      <td>Get quick cleaning results with the Star Brite...</td>\n",
       "      <td>USD</td>\n",
       "      <td>111111111</td>\n",
       "      <td>https://i5.walmartimages.com/asr/c08c0e86-57ed...</td>\n",
       "      <td>Star Brite Mildew Stain Remover, 16 oz, Wal-ma...</td>\n",
       "      <td>81</td>\n",
       "      <td>902a36b04f45041c32b7fc32fcf9770d</td>\n",
       "      <td>0</td>\n",
       "    </tr>\n",
       "    <tr>\n",
       "      <th>1</th>\n",
       "      <td>1aef3a5f0252ffbf2b1087d85ae3e151</td>\n",
       "      <td>2021-02-03 00:33:14</td>\n",
       "      <td>29c8a6e8d3ea79edfaa3764d143cb672</td>\n",
       "      <td>Competitor</td>\n",
       "      <td>CH1944</td>\n",
       "      <td>CH2341</td>\n",
       "      <td>CH1095</td>\n",
       "      <td>CH1054</td>\n",
       "      <td>BZ1000</td>\n",
       "      <td>walmart.com</td>\n",
       "      <td>...</td>\n",
       "      <td>https://www.walmart.com/ip/Energizer-Ultimate-...</td>\n",
       "      <td>US</td>\n",
       "      <td>Nothing outlasts the long-lasting power of Ene...</td>\n",
       "      <td>USD</td>\n",
       "      <td>111111111</td>\n",
       "      <td>https://i5.walmartimages.com/asr/6c4d2602-b227...</td>\n",
       "      <td>Energizer Ultimate Lithium AA Batteries, Doubl...</td>\n",
       "      <td>155</td>\n",
       "      <td>f038bbe44f729ff52cf5bb76e3bb9269</td>\n",
       "      <td>0</td>\n",
       "    </tr>\n",
       "    <tr>\n",
       "      <th>2</th>\n",
       "      <td>a4ced24933465e5aac360415cfe9833d</td>\n",
       "      <td>2021-02-04 04:56:07</td>\n",
       "      <td>c7be65f56e6424ed0a5994a1f55f0911</td>\n",
       "      <td>Competitor</td>\n",
       "      <td>CH1945</td>\n",
       "      <td>CH1118</td>\n",
       "      <td>CH1104</td>\n",
       "      <td>CH0117</td>\n",
       "      <td>BZ1000</td>\n",
       "      <td>walmart.com</td>\n",
       "      <td>...</td>\n",
       "      <td>https://www.walmart.com/ip/Carefree-Acti-Fresh...</td>\n",
       "      <td>US</td>\n",
       "      <td>Carefree Acti-Fresh Panty Liners are designed ...</td>\n",
       "      <td>USD</td>\n",
       "      <td>111111111</td>\n",
       "      <td>https://i5.walmartimages.com/asr/18ba34a1-87b1...</td>\n",
       "      <td>Carefree Acti-Fresh Daily Liners, Regular, Uns...</td>\n",
       "      <td>13060</td>\n",
       "      <td>5e7cef2866e305964e860d9d6b6b06c2</td>\n",
       "      <td>0</td>\n",
       "    </tr>\n",
       "    <tr>\n",
       "      <th>3</th>\n",
       "      <td>e363ae6b46f4e0f21943a0f71c06f612</td>\n",
       "      <td>2021-01-29 07:36:22</td>\n",
       "      <td>5002240000559679400000002000000000067907346US</td>\n",
       "      <td>Unilever</td>\n",
       "      <td>CH1945</td>\n",
       "      <td>CH1116</td>\n",
       "      <td>CH1201</td>\n",
       "      <td>CH0089</td>\n",
       "      <td>BZ1000</td>\n",
       "      <td>walmart.com</td>\n",
       "      <td>...</td>\n",
       "      <td>https://www.walmart.com/ip/TRESemme-Keratin-Sm...</td>\n",
       "      <td>US</td>\n",
       "      <td>Keratin Smooth Shampoo ; ConditionerTRESemme K...</td>\n",
       "      <td>USD</td>\n",
       "      <td>111111111</td>\n",
       "      <td>https://i5.walmartimages.com/asr/e4e2398b-f817...</td>\n",
       "      <td>TRESemme Keratin Smooth Regimen Pack, 25 oz, T...</td>\n",
       "      <td>4</td>\n",
       "      <td>92999022098af6251897649caae7bb05</td>\n",
       "      <td>0</td>\n",
       "    </tr>\n",
       "    <tr>\n",
       "      <th>4</th>\n",
       "      <td>bf2803083d1029f9eddd0f71b5d18332</td>\n",
       "      <td>2021-01-28 00:12:14</td>\n",
       "      <td>5076949b84b571cbf2e49a9b8823d8f1</td>\n",
       "      <td>Competitor</td>\n",
       "      <td>CH1945</td>\n",
       "      <td>CH2027</td>\n",
       "      <td>CH1162</td>\n",
       "      <td>CH1898</td>\n",
       "      <td>BZ1000</td>\n",
       "      <td>walmart.com</td>\n",
       "      <td>...</td>\n",
       "      <td>https://www.walmart.com/ip/Obagi-Nu-Derm-Clear...</td>\n",
       "      <td>US</td>\n",
       "      <td>Get brighter, younger, healthier-looking skin ...</td>\n",
       "      <td>USD</td>\n",
       "      <td>111111111</td>\n",
       "      <td>https://i5.walmartimages.com/asr/9955fdd2-47aa...</td>\n",
       "      <td>Obagi Nu-Derm Clear Fx Skin Brightening Cream,...</td>\n",
       "      <td>8</td>\n",
       "      <td>45863c04f136ed11a6f615abfd5a3421</td>\n",
       "      <td>0</td>\n",
       "    </tr>\n",
       "  </tbody>\n",
       "</table>\n",
       "<p>5 rows × 24 columns</p>\n",
       "</div>"
      ],
      "text/plain": [
       "                            uniq_id      crawl_timestamp  \\\n",
       "0  fc3abbe975e3df4784884da65bae9cc3  2021-02-02 23:41:45   \n",
       "1  1aef3a5f0252ffbf2b1087d85ae3e151  2021-02-03 00:33:14   \n",
       "2  a4ced24933465e5aac360415cfe9833d  2021-02-04 04:56:07   \n",
       "3  e363ae6b46f4e0f21943a0f71c06f612  2021-01-29 07:36:22   \n",
       "4  bf2803083d1029f9eddd0f71b5d18332  2021-01-28 00:12:14   \n",
       "\n",
       "                                      product_id product_company_type_source  \\\n",
       "0               eec8538d7c15e99e2ab4185435e5ecf8                  Competitor   \n",
       "1               29c8a6e8d3ea79edfaa3764d143cb672                  Competitor   \n",
       "2               c7be65f56e6424ed0a5994a1f55f0911                  Competitor   \n",
       "3  5002240000559679400000002000000000067907346US                    Unilever   \n",
       "4               5076949b84b571cbf2e49a9b8823d8f1                  Competitor   \n",
       "\n",
       "  product_category_group_code product_category_code product_market_code  \\\n",
       "0                      CH1944                CH2341              CH1095   \n",
       "1                      CH1944                CH2341              CH1095   \n",
       "2                      CH1945                CH1118              CH1104   \n",
       "3                      CH1945                CH1116              CH1201   \n",
       "4                      CH1945                CH2027              CH1162   \n",
       "\n",
       "  product_sector_code Product Brand Code     retailer  ...  \\\n",
       "0              CH1054             BZ1000  walmart.com  ...   \n",
       "1              CH1054             BZ1000  walmart.com  ...   \n",
       "2              CH0117             BZ1000  walmart.com  ...   \n",
       "3              CH0089             BZ1000  walmart.com  ...   \n",
       "4              CH1898             BZ1000  walmart.com  ...   \n",
       "\n",
       "                                         product_url market  \\\n",
       "0  https://www.walmart.com/ip/Star-Brite-Mildew-S...     US   \n",
       "1  https://www.walmart.com/ip/Energizer-Ultimate-...     US   \n",
       "2  https://www.walmart.com/ip/Carefree-Acti-Fresh...     US   \n",
       "3  https://www.walmart.com/ip/TRESemme-Keratin-Sm...     US   \n",
       "4  https://www.walmart.com/ip/Obagi-Nu-Derm-Clear...     US   \n",
       "\n",
       "                                 product_description  product_currency  \\\n",
       "0  Get quick cleaning results with the Star Brite...               USD   \n",
       "1  Nothing outlasts the long-lasting power of Ene...               USD   \n",
       "2  Carefree Acti-Fresh Panty Liners are designed ...               USD   \n",
       "3  Keratin Smooth Shampoo ; ConditionerTRESemme K...               USD   \n",
       "4  Get brighter, younger, healthier-looking skin ...               USD   \n",
       "\n",
       "  product_available_inventory  \\\n",
       "0                   111111111   \n",
       "1                   111111111   \n",
       "2                   111111111   \n",
       "3                   111111111   \n",
       "4                   111111111   \n",
       "\n",
       "                                   product_image_url  \\\n",
       "0  https://i5.walmartimages.com/asr/c08c0e86-57ed...   \n",
       "1  https://i5.walmartimages.com/asr/6c4d2602-b227...   \n",
       "2  https://i5.walmartimages.com/asr/18ba34a1-87b1...   \n",
       "3  https://i5.walmartimages.com/asr/e4e2398b-f817...   \n",
       "4  https://i5.walmartimages.com/asr/9955fdd2-47aa...   \n",
       "\n",
       "                                        product_tags product_reviews_count  \\\n",
       "0  Star Brite Mildew Stain Remover, 16 oz, Wal-ma...                    81   \n",
       "1  Energizer Ultimate Lithium AA Batteries, Doubl...                   155   \n",
       "2  Carefree Acti-Fresh Daily Liners, Regular, Uns...                 13060   \n",
       "3  TRESemme Keratin Smooth Regimen Pack, 25 oz, T...                     4   \n",
       "4  Obagi Nu-Derm Clear Fx Skin Brightening Cream,...                     8   \n",
       "\n",
       "                        joining_key expected_brand_count  \n",
       "0  902a36b04f45041c32b7fc32fcf9770d                    0  \n",
       "1  f038bbe44f729ff52cf5bb76e3bb9269                    0  \n",
       "2  5e7cef2866e305964e860d9d6b6b06c2                    0  \n",
       "3  92999022098af6251897649caae7bb05                    0  \n",
       "4  45863c04f136ed11a6f615abfd5a3421                    0  \n",
       "\n",
       "[5 rows x 24 columns]"
      ]
     },
     "execution_count": 5,
     "metadata": {},
     "output_type": "execute_result"
    }
   ],
   "source": [
    "validator = context.get_validator(\n",
    "    batch_request = batch_request,\n",
    "    expectation_suite_name = expectation_suite_name\n",
    ")\n",
    "\n",
    "validator.head()"
   ]
  },
  {
   "cell_type": "markdown",
   "metadata": {},
   "source": [
    "<h4>Expectations</h4>"
   ]
  },
  {
   "cell_type": "markdown",
   "metadata": {},
   "source": [
    "**Expectation**: verifiable assertion about source data"
   ]
  },
  {
   "cell_type": "markdown",
   "metadata": {},
   "source": [
    "validate column uniq_id has unique values"
   ]
  },
  {
   "cell_type": "code",
   "execution_count": 6,
   "metadata": {},
   "outputs": [
    {
     "data": {
      "application/vnd.jupyter.widget-view+json": {
       "model_id": "e0a67cd065694a2e839718716848d9fa",
       "version_major": 2,
       "version_minor": 0
      },
      "text/plain": [
       "Calculating Metrics:   0%|          | 0/8 [00:00<?, ?it/s]"
      ]
     },
     "metadata": {},
     "output_type": "display_data"
    },
    {
     "data": {
      "text/plain": [
       "{\n",
       "  \"success\": true,\n",
       "  \"result\": {\n",
       "    \"element_count\": 5000,\n",
       "    \"unexpected_count\": 0,\n",
       "    \"unexpected_percent\": 0.0,\n",
       "    \"partial_unexpected_list\": [],\n",
       "    \"missing_count\": 0,\n",
       "    \"missing_percent\": 0.0,\n",
       "    \"unexpected_percent_total\": 0.0,\n",
       "    \"unexpected_percent_nonmissing\": 0.0\n",
       "  },\n",
       "  \"meta\": {},\n",
       "  \"exception_info\": {\n",
       "    \"raised_exception\": false,\n",
       "    \"exception_traceback\": null,\n",
       "    \"exception_message\": null\n",
       "  }\n",
       "}"
      ]
     },
     "execution_count": 6,
     "metadata": {},
     "output_type": "execute_result"
    }
   ],
   "source": [
    "validator.expect_column_values_to_be_unique('uniq_id')"
   ]
  },
  {
   "cell_type": "markdown",
   "metadata": {},
   "source": [
    "validate column product_price has value between 0 and 1000"
   ]
  },
  {
   "cell_type": "code",
   "execution_count": 7,
   "metadata": {},
   "outputs": [
    {
     "data": {
      "application/vnd.jupyter.widget-view+json": {
       "model_id": "719583c1df6f4db6b8f1cc8782541982",
       "version_major": 2,
       "version_minor": 0
      },
      "text/plain": [
       "Calculating Metrics:   0%|          | 0/8 [00:00<?, ?it/s]"
      ]
     },
     "metadata": {},
     "output_type": "display_data"
    },
    {
     "data": {
      "text/plain": [
       "{\n",
       "  \"success\": true,\n",
       "  \"result\": {\n",
       "    \"element_count\": 5000,\n",
       "    \"unexpected_count\": 0,\n",
       "    \"unexpected_percent\": 0.0,\n",
       "    \"partial_unexpected_list\": [],\n",
       "    \"missing_count\": 0,\n",
       "    \"missing_percent\": 0.0,\n",
       "    \"unexpected_percent_total\": 0.0,\n",
       "    \"unexpected_percent_nonmissing\": 0.0\n",
       "  },\n",
       "  \"meta\": {},\n",
       "  \"exception_info\": {\n",
       "    \"raised_exception\": false,\n",
       "    \"exception_traceback\": null,\n",
       "    \"exception_message\": null\n",
       "  }\n",
       "}"
      ]
     },
     "execution_count": 7,
     "metadata": {},
     "output_type": "execute_result"
    }
   ],
   "source": [
    "validator.expect_column_values_to_be_between(\n",
    "    column='product_price', min_value=0, max_value=1000\n",
    ")"
   ]
  },
  {
   "cell_type": "markdown",
   "metadata": {},
   "source": [
    "validate the product_currency is USD"
   ]
  },
  {
   "cell_type": "code",
   "execution_count": 8,
   "metadata": {},
   "outputs": [
    {
     "data": {
      "application/vnd.jupyter.widget-view+json": {
       "model_id": "3c5e731612014f08a68c1b8ade5d3d3c",
       "version_major": 2,
       "version_minor": 0
      },
      "text/plain": [
       "Calculating Metrics:   0%|          | 0/8 [00:00<?, ?it/s]"
      ]
     },
     "metadata": {},
     "output_type": "display_data"
    },
    {
     "data": {
      "text/plain": [
       "{\n",
       "  \"success\": true,\n",
       "  \"result\": {\n",
       "    \"element_count\": 5000,\n",
       "    \"unexpected_count\": 0,\n",
       "    \"unexpected_percent\": 0.0,\n",
       "    \"partial_unexpected_list\": [],\n",
       "    \"missing_count\": 0,\n",
       "    \"missing_percent\": 0.0,\n",
       "    \"unexpected_percent_total\": 0.0,\n",
       "    \"unexpected_percent_nonmissing\": 0.0\n",
       "  },\n",
       "  \"meta\": {},\n",
       "  \"exception_info\": {\n",
       "    \"raised_exception\": false,\n",
       "    \"exception_traceback\": null,\n",
       "    \"exception_message\": null\n",
       "  }\n",
       "}"
      ]
     },
     "execution_count": 8,
     "metadata": {},
     "output_type": "execute_result"
    }
   ],
   "source": [
    "validator.expect_column_values_to_be_in_set(\n",
    "    column=\"product_currency\", \n",
    "    value_set=[\"USD\"]\n",
    ")"
   ]
  },
  {
   "cell_type": "markdown",
   "metadata": {},
   "source": [
    "validate product_price value type must be float or int"
   ]
  },
  {
   "cell_type": "code",
   "execution_count": 9,
   "metadata": {},
   "outputs": [
    {
     "data": {
      "application/vnd.jupyter.widget-view+json": {
       "model_id": "84525b07d7f346e9a13360215b792d6a",
       "version_major": 2,
       "version_minor": 0
      },
      "text/plain": [
       "Calculating Metrics:   0%|          | 0/1 [00:00<?, ?it/s]"
      ]
     },
     "metadata": {},
     "output_type": "display_data"
    },
    {
     "data": {
      "text/plain": [
       "{\n",
       "  \"success\": true,\n",
       "  \"result\": {\n",
       "    \"observed_value\": \"float64\"\n",
       "  },\n",
       "  \"meta\": {},\n",
       "  \"exception_info\": {\n",
       "    \"raised_exception\": false,\n",
       "    \"exception_traceback\": null,\n",
       "    \"exception_message\": null\n",
       "  }\n",
       "}"
      ]
     },
     "execution_count": 9,
     "metadata": {},
     "output_type": "execute_result"
    }
   ],
   "source": [
    "validator.expect_column_values_to_be_in_type_list(\n",
    "    column='product_price',\n",
    "    type_list=['FLOAT', 'INT']\n",
    ")"
   ]
  },
  {
   "cell_type": "markdown",
   "metadata": {},
   "source": [
    "validate for length of the value in product_id has minumum = 1 and max = 45"
   ]
  },
  {
   "cell_type": "code",
   "execution_count": 10,
   "metadata": {},
   "outputs": [
    {
     "data": {
      "application/vnd.jupyter.widget-view+json": {
       "model_id": "c4e0534e96b54cce8b1125f21906cc6b",
       "version_major": 2,
       "version_minor": 0
      },
      "text/plain": [
       "Calculating Metrics:   0%|          | 0/9 [00:00<?, ?it/s]"
      ]
     },
     "metadata": {},
     "output_type": "display_data"
    },
    {
     "data": {
      "text/plain": [
       "{\n",
       "  \"success\": true,\n",
       "  \"result\": {\n",
       "    \"element_count\": 5000,\n",
       "    \"unexpected_count\": 0,\n",
       "    \"unexpected_percent\": 0.0,\n",
       "    \"partial_unexpected_list\": [],\n",
       "    \"missing_count\": 0,\n",
       "    \"missing_percent\": 0.0,\n",
       "    \"unexpected_percent_total\": 0.0,\n",
       "    \"unexpected_percent_nonmissing\": 0.0\n",
       "  },\n",
       "  \"meta\": {},\n",
       "  \"exception_info\": {\n",
       "    \"raised_exception\": false,\n",
       "    \"exception_traceback\": null,\n",
       "    \"exception_message\": null\n",
       "  }\n",
       "}"
      ]
     },
     "execution_count": 10,
     "metadata": {},
     "output_type": "execute_result"
    }
   ],
   "source": [
    "validator.expect_column_value_lengths_to_be_between('product_id', min_value=1, max_value=45)"
   ]
  },
  {
   "cell_type": "markdown",
   "metadata": {},
   "source": [
    "validate format of the product_category_code must be starting from CH or CF"
   ]
  },
  {
   "cell_type": "code",
   "execution_count": 11,
   "metadata": {},
   "outputs": [
    {
     "data": {
      "application/vnd.jupyter.widget-view+json": {
       "model_id": "ee088d29356b45d991be9bcd4b5b48e4",
       "version_major": 2,
       "version_minor": 0
      },
      "text/plain": [
       "Calculating Metrics:   0%|          | 0/8 [00:00<?, ?it/s]"
      ]
     },
     "metadata": {},
     "output_type": "display_data"
    },
    {
     "data": {
      "text/plain": [
       "{\n",
       "  \"success\": true,\n",
       "  \"result\": {\n",
       "    \"element_count\": 5000,\n",
       "    \"unexpected_count\": 0,\n",
       "    \"unexpected_percent\": 0.0,\n",
       "    \"partial_unexpected_list\": [],\n",
       "    \"missing_count\": 0,\n",
       "    \"missing_percent\": 0.0,\n",
       "    \"unexpected_percent_total\": 0.0,\n",
       "    \"unexpected_percent_nonmissing\": 0.0\n",
       "  },\n",
       "  \"meta\": {},\n",
       "  \"exception_info\": {\n",
       "    \"raised_exception\": false,\n",
       "    \"exception_traceback\": null,\n",
       "    \"exception_message\": null\n",
       "  }\n",
       "}"
      ]
     },
     "execution_count": 11,
     "metadata": {},
     "output_type": "execute_result"
    }
   ],
   "source": [
    "validator.expect_column_values_to_match_regex('product_category_code', '^(CH|CF).*')"
   ]
  },
  {
   "cell_type": "markdown",
   "metadata": {},
   "source": [
    "Validate format value in crawl_timestamp is year-month-day hour-minute-second"
   ]
  },
  {
   "cell_type": "code",
   "execution_count": 12,
   "metadata": {},
   "outputs": [
    {
     "data": {
      "application/vnd.jupyter.widget-view+json": {
       "model_id": "9595f4f7faf54b3b818694765f2ae9f3",
       "version_major": 2,
       "version_minor": 0
      },
      "text/plain": [
       "Calculating Metrics:   0%|          | 0/8 [00:00<?, ?it/s]"
      ]
     },
     "metadata": {},
     "output_type": "display_data"
    },
    {
     "data": {
      "text/plain": [
       "{\n",
       "  \"success\": true,\n",
       "  \"result\": {\n",
       "    \"element_count\": 5000,\n",
       "    \"unexpected_count\": 0,\n",
       "    \"unexpected_percent\": 0.0,\n",
       "    \"partial_unexpected_list\": [],\n",
       "    \"missing_count\": 0,\n",
       "    \"missing_percent\": 0.0,\n",
       "    \"unexpected_percent_total\": 0.0,\n",
       "    \"unexpected_percent_nonmissing\": 0.0\n",
       "  },\n",
       "  \"meta\": {},\n",
       "  \"exception_info\": {\n",
       "    \"raised_exception\": false,\n",
       "    \"exception_traceback\": null,\n",
       "    \"exception_message\": null\n",
       "  }\n",
       "}"
      ]
     },
     "execution_count": 12,
     "metadata": {},
     "output_type": "execute_result"
    }
   ],
   "source": [
    "validator.expect_column_values_to_match_strftime_format('crawl_timestamp', '%Y-%m-%d %H:%M:%S')"
   ]
  },
  {
   "cell_type": "markdown",
   "metadata": {},
   "source": [
    "Save expextation suite"
   ]
  },
  {
   "cell_type": "code",
   "execution_count": 13,
   "metadata": {},
   "outputs": [],
   "source": [
    "validator.save_expectation_suite(discard_failed_expectations=False)"
   ]
  },
  {
   "cell_type": "markdown",
   "metadata": {},
   "source": [
    "<h3>3. Validate Data</h3>"
   ]
  },
  {
   "cell_type": "markdown",
   "metadata": {},
   "source": [
    "Create a checkpoint"
   ]
  },
  {
   "cell_type": "code",
   "execution_count": 14,
   "metadata": {},
   "outputs": [],
   "source": [
    "checkpoint_1 = context.add_or_update_checkpoint(\n",
    "    name = 'checkpoint_1',\n",
    "    validator = validator,\n",
    ")"
   ]
  },
  {
   "cell_type": "markdown",
   "metadata": {},
   "source": [
    "Run checkpoint"
   ]
  },
  {
   "cell_type": "code",
   "execution_count": 15,
   "metadata": {},
   "outputs": [
    {
     "data": {
      "application/vnd.jupyter.widget-view+json": {
       "model_id": "c8716f5e4f6046ad998a5e5c28d67dbc",
       "version_major": 2,
       "version_minor": 0
      },
      "text/plain": [
       "Calculating Metrics:   0%|          | 0/46 [00:00<?, ?it/s]"
      ]
     },
     "metadata": {},
     "output_type": "display_data"
    }
   ],
   "source": [
    "checkpoint_result = checkpoint_1.run()"
   ]
  },
  {
   "cell_type": "markdown",
   "metadata": {},
   "source": [
    "Create data docs"
   ]
  },
  {
   "cell_type": "code",
   "execution_count": 16,
   "metadata": {},
   "outputs": [
    {
     "data": {
      "text/plain": [
       "{'local_site': 'file://d:\\\\CODA_001\\\\git\\\\p2-coda001-rmt-m3-ariefjw\\\\gx\\\\uncommitted/data_docs/local_site/index.html'}"
      ]
     },
     "execution_count": 16,
     "metadata": {},
     "output_type": "execute_result"
    }
   ],
   "source": [
    "context.build_data_docs()"
   ]
  }
 ],
 "metadata": {
  "kernelspec": {
   "display_name": "envHacktiv8",
   "language": "python",
   "name": "python3"
  },
  "language_info": {
   "codemirror_mode": {
    "name": "ipython",
    "version": 3
   },
   "file_extension": ".py",
   "mimetype": "text/x-python",
   "name": "python",
   "nbconvert_exporter": "python",
   "pygments_lexer": "ipython3",
   "version": "3.12.6"
  }
 },
 "nbformat": 4,
 "nbformat_minor": 2
}
