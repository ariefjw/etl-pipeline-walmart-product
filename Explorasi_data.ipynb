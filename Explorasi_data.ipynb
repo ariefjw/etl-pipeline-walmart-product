{
 "cells": [
  {
   "cell_type": "markdown",
   "metadata": {},
   "source": [
    "'''<br>\n",
    "=================================================<br>\n",
    "Nama  : Arief Joko Wicaksono<br>\n",
    "\n",
    "<p>Program ini dibuat untuk melakukan explorasi sederhana terhadap data product walmart pada januari-februari 2021. Selanjutnya explorasi data akan digunakan untuk acuan pada proses ETL</p><br>\n",
    "=================================================<br>\n",
    "'''"
   ]
  },
  {
   "cell_type": "markdown",
   "metadata": {},
   "source": [
    "Import library and module"
   ]
  },
  {
   "cell_type": "code",
   "execution_count": 1,
   "metadata": {},
   "outputs": [],
   "source": [
    "import pyspark\n",
    "from pyspark.sql import SparkSession"
   ]
  },
  {
   "cell_type": "markdown",
   "metadata": {},
   "source": [
    "Create spark engine"
   ]
  },
  {
   "cell_type": "code",
   "execution_count": 2,
   "metadata": {},
   "outputs": [],
   "source": [
    "spark = SparkSession.Builder().getOrCreate()"
   ]
  },
  {
   "cell_type": "markdown",
   "metadata": {},
   "source": [
    "Create dataframe using spark"
   ]
  },
  {
   "cell_type": "code",
   "execution_count": 4,
   "metadata": {},
   "outputs": [
    {
     "name": "stdout",
     "output_type": "stream",
     "text": [
      "+--------------------+-------------------+--------------------+---------------------------+---------------------------+---------------------+-------------------+-------------------+------------------+-----------+--------------------+-------------+--------------------+-------------+----+----+--------------------+------+--------------------+----------------+---------------------------+--------------------+--------------------+--------------------+----------------+--------------+---------------------+----+--------------------+-----------------------+--------------------+\n",
      "|             Uniq Id|    Crawl Timestamp|          Product Id|Product Company Type Source|Product Category Group Code|Product Category Code|Product Market Code|Product Sector Code|Product Brand Code|   Retailer|    Product Category|Product Brand|        Product Name|Product Price| Sku| Upc|         Product Url|Market| Product Description|Product Currency|Product Available Inventory|   Product Image Url|Product Model Number|        Product Tags|Product Contents|Product Rating|Product Reviews Count| Bsr|         Joining Key|Expected Category Count|Expected Brand Count|\n",
      "+--------------------+-------------------+--------------------+---------------------------+---------------------------+---------------------+-------------------+-------------------+------------------+-----------+--------------------+-------------+--------------------+-------------+----+----+--------------------+------+--------------------+----------------+---------------------------+--------------------+--------------------+--------------------+----------------+--------------+---------------------+----+--------------------+-----------------------+--------------------+\n",
      "|fc3abbe975e3df478...|2021-02-02 23:41:45|eec8538d7c15e99e2...|                 Competitor|                     CH1944|               CH2341|             CH1095|             CH1054|            BZ1000|walmart.com|Household Essenti...|   Star Brite|Star Brite Mildew...|         9.96|NULL|NULL|https://www.walma...|    US|Get quick cleanin...|             USD|                  111111111|https://i5.walmar...|                NULL|Star Brite Mildew...|            NULL|          NULL|                   81|NULL|902a36b04f45041c3...|                   NULL|                   0|\n",
      "|1aef3a5f0252ffbf2...|2021-02-03 00:33:14|29c8a6e8d3ea79edf...|                 Competitor|                     CH1944|               CH2341|             CH1095|             CH1054|            BZ1000|walmart.com|Household Essenti...|    Energizer|Energizer Ultimat...|         7.47|NULL|NULL|https://www.walma...|    US|Nothing outlasts ...|             USD|                  111111111|https://i5.walmar...|                NULL|Energizer Ultimat...|            NULL|          NULL|                  155|NULL|f038bbe44f729ff52...|                   NULL|                   0|\n",
      "|a4ced24933465e5aa...|2021-02-04 04:56:07|c7be65f56e6424ed0...|                 Competitor|                     CH1945|               CH1118|             CH1104|             CH0117|            BZ1000|walmart.com|Personal Care > F...|     Carefree|Carefree Acti-Fre...|         2.97|NULL|NULL|https://www.walma...|    US|Carefree Acti-Fre...|             USD|                  111111111|https://i5.walmar...|                NULL|Carefree Acti-Fre...|            NULL|          NULL|                13060|NULL|5e7cef2866e305964...|                   NULL|                   0|\n",
      "|e363ae6b46f4e0f21...|2021-01-29 07:36:22|50022400005596794...|                   Unilever|                     CH1945|               CH1116|             CH1201|             CH0089|            BZ1000|walmart.com|Beauty > Hair Car...|     TRESemmé|TRESemme Keratin ...|         8.98|NULL|NULL|https://www.walma...|    US|Keratin Smooth Sh...|             USD|                  111111111|https://i5.walmar...|                NULL|TRESemme Keratin ...|            NULL|          NULL|                    4|NULL|92999022098af6251...|                   NULL|                   0|\n",
      "|bf2803083d1029f9e...|2021-01-28 00:12:14|5076949b84b571cbf...|                 Competitor|                     CH1945|               CH2027|             CH1162|             CH1898|            BZ1000|walmart.com|Beauty > Skin Car...|        Obagi|Obagi Nu-Derm Cle...|        87.98|NULL|NULL|https://www.walma...|    US|Get brighter, you...|             USD|                  111111111|https://i5.walmar...|                NULL|Obagi Nu-Derm Cle...|            NULL|          NULL|                    8|NULL|45863c04f136ed11a...|                   NULL|                   0|\n",
      "+--------------------+-------------------+--------------------+---------------------------+---------------------------+---------------------+-------------------+-------------------+------------------+-----------+--------------------+-------------+--------------------+-------------+----+----+--------------------+------+--------------------+----------------+---------------------------+--------------------+--------------------+--------------------+----------------+--------------+---------------------+----+--------------------+-----------------------+--------------------+\n",
      "only showing top 5 rows\n",
      "\n"
     ]
    }
   ],
   "source": [
    "df = spark.read.csv('P2M3_arief_joko_data_raw.csv', header=True, inferSchema=True)\n",
    "df.show(5)"
   ]
  },
  {
   "cell_type": "markdown",
   "metadata": {},
   "source": [
    "Melihat type data setiap kolom yang ada"
   ]
  },
  {
   "cell_type": "code",
   "execution_count": 5,
   "metadata": {},
   "outputs": [
    {
     "name": "stdout",
     "output_type": "stream",
     "text": [
      "root\n",
      " |-- Uniq Id: string (nullable = true)\n",
      " |-- Crawl Timestamp: timestamp (nullable = true)\n",
      " |-- Product Id: string (nullable = true)\n",
      " |-- Product Company Type Source: string (nullable = true)\n",
      " |-- Product Category Group Code: string (nullable = true)\n",
      " |-- Product Category Code: string (nullable = true)\n",
      " |-- Product Market Code: string (nullable = true)\n",
      " |-- Product Sector Code: string (nullable = true)\n",
      " |-- Product Brand Code: string (nullable = true)\n",
      " |-- Retailer: string (nullable = true)\n",
      " |-- Product Category: string (nullable = true)\n",
      " |-- Product Brand: string (nullable = true)\n",
      " |-- Product Name: string (nullable = true)\n",
      " |-- Product Price: double (nullable = true)\n",
      " |-- Sku: string (nullable = true)\n",
      " |-- Upc: string (nullable = true)\n",
      " |-- Product Url: string (nullable = true)\n",
      " |-- Market: string (nullable = true)\n",
      " |-- Product Description: string (nullable = true)\n",
      " |-- Product Currency: string (nullable = true)\n",
      " |-- Product Available Inventory: integer (nullable = true)\n",
      " |-- Product Image Url: string (nullable = true)\n",
      " |-- Product Model Number: string (nullable = true)\n",
      " |-- Product Tags: string (nullable = true)\n",
      " |-- Product Contents: string (nullable = true)\n",
      " |-- Product Rating: string (nullable = true)\n",
      " |-- Product Reviews Count: integer (nullable = true)\n",
      " |-- Bsr: string (nullable = true)\n",
      " |-- Joining Key: string (nullable = true)\n",
      " |-- Expected Category Count: string (nullable = true)\n",
      " |-- Expected Brand Count: integer (nullable = true)\n",
      "\n"
     ]
    }
   ],
   "source": [
    "df.printSchema()"
   ]
  },
  {
   "cell_type": "markdown",
   "metadata": {},
   "source": [
    "Melihat kondisi data dan berapa banyak mising values"
   ]
  },
  {
   "cell_type": "code",
   "execution_count": 6,
   "metadata": {},
   "outputs": [
    {
     "name": "stdout",
     "output_type": "stream",
     "text": [
      "+-------+--------------------+--------------------+---------------------------+---------------------------+---------------------+-------------------+-------------------+------------------+-----------+--------------------+-------------+--------------------+------------------+----+----+--------------------+------+----------------------+----------------+---------------------------+--------------------+--------------------+--------------------+----------------+--------------+---------------------+----+--------------------+-----------------------+--------------------+\n",
      "|summary|             Uniq Id|          Product Id|Product Company Type Source|Product Category Group Code|Product Category Code|Product Market Code|Product Sector Code|Product Brand Code|   Retailer|    Product Category|Product Brand|        Product Name|     Product Price| Sku| Upc|         Product Url|Market|   Product Description|Product Currency|Product Available Inventory|   Product Image Url|Product Model Number|        Product Tags|Product Contents|Product Rating|Product Reviews Count| Bsr|         Joining Key|Expected Category Count|Expected Brand Count|\n",
      "+-------+--------------------+--------------------+---------------------------+---------------------------+---------------------+-------------------+-------------------+------------------+-----------+--------------------+-------------+--------------------+------------------+----+----+--------------------+------+----------------------+----------------+---------------------------+--------------------+--------------------+--------------------+----------------+--------------+---------------------+----+--------------------+-----------------------+--------------------+\n",
      "|  count|                5000|                5000|                       5000|                       5000|                 5000|               5000|               5000|              5000|       5000|                4989|         4984|                5000|              5000|   0|   0|                5000|  5000|                  3975|            5000|                       5000|                4999|                   0|                4999|               0|             0|                 5000|   0|                5000|                      0|                5000|\n",
      "|   mean|                NULL|                NULL|                       NULL|                       NULL|                 NULL|               NULL|               NULL|              NULL|       NULL|                NULL|         NULL|                NULL|20.680527999999974|NULL|NULL|                NULL|  NULL|                  NULL|            NULL|               1.11111111E8|                NULL|                NULL|                NULL|            NULL|          NULL|             486.1548|NULL|                NULL|                   NULL|                 0.0|\n",
      "| stddev|                NULL|                NULL|                       NULL|                       NULL|                 NULL|               NULL|               NULL|              NULL|       NULL|                NULL|         NULL|                NULL| 28.04423778703616|NULL|NULL|                NULL|  NULL|                  NULL|            NULL|                        0.0|                NULL|                NULL|                NULL|            NULL|          NULL|    2577.201669665409|NULL|                NULL|                   NULL|                 0.0|\n",
      "|    min|000606879550a56ab...|00011111042421794...|                 Competitor|                     CF1315|               CF1331|             CF1077|             CH0089|            BF0254|walmart.com|Arts Crafts & Sew...|       1 Body|#1 Wart Remover A...|               0.0|NULL|NULL|https://www.walma...|    US|  #1 Pediatrician r...|             USD|                  111111111|https://i5.walmar...|                NULL|#1 Wart Remover A...|            NULL|          NULL|                    0|NULL|00040f51545eb1534...|                   NULL|                   0|\n",
      "|    max|fff21bff1709ee36b...|fffd0f7f99f632c03...|                   Unilever|                      OTHER|               CH2393|         LV5_CH2215|         LV6_CH2227|            BZ1000|walmart.com|Walmart for Busin...|   wet n wild|wnw h2o eye penci...|            520.07|NULL|NULL|https://www.walma...|    US|【FAT BURNER】It is...|             USD|                  111111111|https://i5.walmar...|                NULL|wnw h2o eye penci...|            NULL|          NULL|               100223|NULL|fff7a20c82a9e341f...|                   NULL|                   0|\n",
      "+-------+--------------------+--------------------+---------------------------+---------------------------+---------------------+-------------------+-------------------+------------------+-----------+--------------------+-------------+--------------------+------------------+----+----+--------------------+------+----------------------+----------------+---------------------------+--------------------+--------------------+--------------------+----------------+--------------+---------------------+----+--------------------+-----------------------+--------------------+\n",
      "\n"
     ]
    }
   ],
   "source": [
    "df.describe().show()"
   ]
  },
  {
   "cell_type": "markdown",
   "metadata": {},
   "source": [
    "<h3>Conclusion Exploration Data</h3>"
   ]
  },
  {
   "cell_type": "markdown",
   "metadata": {},
   "source": [
    "Dari hasil eksplorasi data awal diketahui diketahui untuk tipe data setiap kolom terdapat satu kolom yang type datanya salah yaitu kolom product_rating sehingga perlu diconvert menjadi float. Terdapat beberapa kolom yang memiliki missing values (Product Category, Product Brand, Product Description, Product Image Url, Product Tags). Terdapat juga kolom yang benar benar tidak ada data recordnya (sku, upc, Product Model Number, Product Contents, Product Rating, bsr, Expected category Count).<br><br>\n",
    "Disini kita akan menggunakan semua kolom yang memang sudah berisi data dikarenakan data itu penting dan mahal bagi perusahaan. Untuk kolom yang tidak ada datanya akan dianalisa apakah informasi pada kolom itu nantinya penting jika dapat diisi atau tidak. <br><br>\n",
    "Kolom yang akan dihapus yaitu kolom yang memang datanya kosong sejak awal yaitu sku, upc, Product Model Number, Product Contents, Product Rating, bsr, Expected category Count .<br><br>\n",
    "Untuk data yang memiliki missing values akan dihandle dengan mengisinya dengan value tertentu sesuai dengan konteks data.<br><br>\n",
    "Nama kolom juga akan direname dengan rule snake case supaya sesuai dengan kebiasaan di dunia data agar dapat mudah mengakses kolomnya jika diperlukan.<br><br>\n",
    "Data yang sudah ditransform akan diteruskan ke validasi data dan setelah data valid akan dilanjutkan untuk disimpan dalam database mongoDB.\n",
    "\n",
    "\n",
    "\n",
    "\n"
   ]
  },
  {
   "cell_type": "code",
   "execution_count": 7,
   "metadata": {},
   "outputs": [
    {
     "name": "stdout",
     "output_type": "stream",
     "text": [
      "<class 'pandas.core.frame.DataFrame'>\n",
      "RangeIndex: 5000 entries, 0 to 4999\n",
      "Data columns (total 31 columns):\n",
      " #   Column                       Non-Null Count  Dtype         \n",
      "---  ------                       --------------  -----         \n",
      " 0   Uniq Id                      5000 non-null   object        \n",
      " 1   Crawl Timestamp              5000 non-null   datetime64[ns]\n",
      " 2   Product Id                   5000 non-null   object        \n",
      " 3   Product Company Type Source  5000 non-null   object        \n",
      " 4   Product Category Group Code  5000 non-null   object        \n",
      " 5   Product Category Code        5000 non-null   object        \n",
      " 6   Product Market Code          5000 non-null   object        \n",
      " 7   Product Sector Code          5000 non-null   object        \n",
      " 8   Product Brand Code           5000 non-null   object        \n",
      " 9   Retailer                     5000 non-null   object        \n",
      " 10  Product Category             4989 non-null   object        \n",
      " 11  Product Brand                4984 non-null   object        \n",
      " 12  Product Name                 5000 non-null   object        \n",
      " 13  Product Price                5000 non-null   float64       \n",
      " 14  Sku                          0 non-null      object        \n",
      " 15  Upc                          0 non-null      object        \n",
      " 16  Product Url                  5000 non-null   object        \n",
      " 17  Market                       5000 non-null   object        \n",
      " 18  Product Description          3975 non-null   object        \n",
      " 19  Product Currency             5000 non-null   object        \n",
      " 20  Product Available Inventory  5000 non-null   int32         \n",
      " 21  Product Image Url            4999 non-null   object        \n",
      " 22  Product Model Number         0 non-null      object        \n",
      " 23  Product Tags                 4999 non-null   object        \n",
      " 24  Product Contents             0 non-null      object        \n",
      " 25  Product Rating               0 non-null      object        \n",
      " 26  Product Reviews Count        5000 non-null   int32         \n",
      " 27  Bsr                          0 non-null      object        \n",
      " 28  Joining Key                  5000 non-null   object        \n",
      " 29  Expected Category Count      0 non-null      object        \n",
      " 30  Expected Brand Count         5000 non-null   int32         \n",
      "dtypes: datetime64[ns](1), float64(1), int32(3), object(26)\n",
      "memory usage: 1.1+ MB\n"
     ]
    }
   ],
   "source": [
    "df.toPandas().info()"
   ]
  }
 ],
 "metadata": {
  "kernelspec": {
   "display_name": "envHacktiv8",
   "language": "python",
   "name": "python3"
  },
  "language_info": {
   "codemirror_mode": {
    "name": "ipython",
    "version": 3
   },
   "file_extension": ".py",
   "mimetype": "text/x-python",
   "name": "python",
   "nbconvert_exporter": "python",
   "pygments_lexer": "ipython3",
   "version": "3.12.6"
  }
 },
 "nbformat": 4,
 "nbformat_minor": 2
}
